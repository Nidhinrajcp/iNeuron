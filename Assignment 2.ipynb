{
 "cells": [
  {
   "cell_type": "raw",
   "id": "d794e8ce",
   "metadata": {},
   "source": [
    "1.What are the two values of the Boolean data type? How do you write them?\n",
    "\n",
    "Ans\n",
    "\n",
    "True and False\n",
    "\n",
    "Write them in Camelcase format (first letter capital) without quotes\n"
   ]
  },
  {
   "cell_type": "raw",
   "id": "9662950e",
   "metadata": {},
   "source": [
    "2. What are the three different types of Boolean operators?\n",
    "\n",
    "Ans.\n",
    "\n",
    "and - Gives True if all evaluating expressions are True, else False\n",
    "Or- Gives False if all evaluating expressions are False, else, True\n",
    "not- negate operator - negates True to False and vicaversa\n",
    "\n"
   ]
  },
  {
   "cell_type": "raw",
   "id": "18b9dbac",
   "metadata": {},
   "source": [
    "3. Make a list of each Boolean operator's truth tables (i.e. every possible combination of Boolean values for the operator \n",
    "and what it evaluate ).\n",
    "\n",
    "and\n",
    "\n",
    "False and False = False\n",
    "False and True = False\n",
    "True and False = False\n",
    "True and True = True\n",
    "\n",
    "or\n",
    "\n",
    "False or False = False\n",
    "False or True = True\n",
    "True or False = True\n",
    "True or True = True\n",
    "\n",
    "not\n",
    "not False : True\n",
    "not True: False\n"
   ]
  },
  {
   "cell_type": "raw",
   "id": "a457892f",
   "metadata": {},
   "source": [
    "4. What are the values of the following expressions?\n",
    "(5 > 4) and (3 == 5) \n",
    "not (5 > 4)\n",
    "(5 > 4) or (3 == 5)\n",
    "not ((5 > 4) or (3 == 5))\n",
    "(True and True) and (True == False)\n",
    "(not False) or (not True)\n",
    "\n",
    "Ans.\n",
    "\n",
    "(5 > 4) and (3 == 5)   :  False\n",
    "\n",
    "not (5 > 4)   :   False\n",
    "\n",
    "not ((5 > 4) or (3 == 5)) : False\n",
    "    \n",
    "(True and True) and (True == False)   : False\n",
    "\n",
    "(not False) or (not True) :True\n"
   ]
  },
  {
   "cell_type": "raw",
   "id": "847e842e",
   "metadata": {},
   "source": [
    "5. What are the six comparison operators?\n",
    "\n",
    ">  : Greater than\n",
    "<  : Lesser than\n",
    ">= : Greater than or equal to\n",
    "<= : Lesser than or equal to \n",
    "== : Equal Operator\n",
    "!= : Not Equal operator"
   ]
  },
  {
   "cell_type": "raw",
   "id": "fd228493",
   "metadata": {},
   "source": [
    "6. How do you tell the difference between the equal to and assignment operators?Describe a condition and when you would use one.\n",
    "\n",
    "Ans.\n",
    "\n",
    "Equal to operator is a comparsion operator that checks if the operands are equalto each other\n",
    "eg:  \n",
    "\n",
    "a =10\n",
    "b=10\n",
    "\n",
    "a==b  #  this expression gives out True as a and b are equal\n",
    "\n",
    "Assignment operator assigns RHS to LHS\n",
    "\n",
    "eg : \n",
    "\n",
    "a= 10\n",
    "b= 11\n",
    "a=b \n",
    "\n",
    "assigns value of b ie 11 to a\n",
    "\n"
   ]
  },
  {
   "cell_type": "raw",
   "id": "aa022ed1",
   "metadata": {},
   "source": [
    "7. Identify the three blocks in this code:\n",
    "spam = 0\n",
    "if spam == 10:\n",
    "print('eggs')\n",
    "if spam > 5:\n",
    "print('bacon')\n",
    "else:\n",
    "print('ham')\n",
    "print('spam')\n",
    "print('spam')\n",
    "\n",
    "\n",
    "Ans.\n",
    "\n",
    "with indentation code looks as\n",
    "\n",
    "\n",
    "if spam == 10:\n",
    "    print('eggs')\n",
    "if spam > 5:\n",
    "    print('bacon')\n",
    "else:\n",
    "    print('ham')\n",
    "    print('spam')\n",
    "    print('spam')\n",
    "\n",
    "    \n",
    "where block 1\n",
    "    print('eggs')\n",
    "    \n",
    "and block 2 \n",
    "\n",
    "    print('bacon')\n",
    "\n",
    "and block 3 \n",
    "\n",
    "    print('ham')\n",
    "    print('spam')\n",
    "    print('spam')\n",
    "\n",
    "as better coding standard, second if can be replaced with elif for continuity\n",
    "\n"
   ]
  },
  {
   "cell_type": "code",
   "execution_count": null,
   "id": "1f10bb50",
   "metadata": {},
   "outputs": [],
   "source": [
    "#8. Write code that prints Hello if 1 is stored in spam, prints Howdy if 2 is stored in spam, and prints Greetings! \n",
    "#if anything else is stored in spam.\n",
    "\n",
    "#Ans:\n",
    "\n",
    "def spam_detect():\n",
    "    val = int(input(\"Enter a number to check for spam\"))\n",
    "    if(val == 1): \n",
    "        print(\"Hello\")\n",
    "    elif (val==2):\n",
    "        print(\"Howdy\")\n",
    "    else:\n",
    "        print(\"Greetings!\")\n",
    "\n",
    "    "
   ]
  },
  {
   "cell_type": "raw",
   "id": "e8b3956d",
   "metadata": {},
   "source": [
    "9.If your programme is stuck in an endless loop, what keys you’ll press\n",
    "\n",
    "\"Ctrl\" + \"C\""
   ]
  },
  {
   "cell_type": "raw",
   "id": "9e67d8d7",
   "metadata": {},
   "source": [
    "10. How can you tell the difference between break and continue?\n",
    "\n",
    "A break breaks the flow of the loop and exit from it.\n",
    "While a continue statement skips the current iteration in a loop"
   ]
  },
  {
   "cell_type": "raw",
   "id": "926cae37",
   "metadata": {},
   "source": [
    "11. In a for loop, what is the difference between range(10), range(0, 10), and range(0, 10, 1)?\n",
    "\n",
    "By logic all of them works as the same.\n",
    "\n",
    "The range(start,stop,step) is the generic function of which start will have a default of 0 and step a default of 1 if not provided."
   ]
  },
  {
   "cell_type": "code",
   "execution_count": null,
   "id": "2157fa09",
   "metadata": {},
   "outputs": [],
   "source": [
    "#12. Write a short program that prints the numbers 1 to 10 using a for loop. Then write an \n",
    "#equivalent program that prints the numbers 1 to 10 using a while loop.\n",
    "\n",
    "#Ans Using for loop\n",
    "\n",
    "for i in range (1,11,1):\n",
    "    print(i)\n",
    "\n",
    "#Using while loop\n",
    "\n",
    "i=0\n",
    "while i in range(0,10):\n",
    "        print(i+1)\n",
    "    i+=1\n"
   ]
  },
  {
   "cell_type": "raw",
   "id": "4210e799",
   "metadata": {},
   "source": [
    "13. If you had a function named bacon() inside a module named spam, how would you call it after importing spam?\n",
    "\n",
    "Ans.\n",
    "spam.bacon()\n"
   ]
  }
 ],
 "metadata": {
  "kernelspec": {
   "display_name": "Python 3 (ipykernel)",
   "language": "python",
   "name": "python3"
  },
  "language_info": {
   "codemirror_mode": {
    "name": "ipython",
    "version": 3
   },
   "file_extension": ".py",
   "mimetype": "text/x-python",
   "name": "python",
   "nbconvert_exporter": "python",
   "pygments_lexer": "ipython3",
   "version": "3.9.7"
  }
 },
 "nbformat": 4,
 "nbformat_minor": 5
}
