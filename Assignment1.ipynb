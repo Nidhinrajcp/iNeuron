{
 "cells": [
  {
   "cell_type": "raw",
   "id": "c9eb5e46",
   "metadata": {},
   "source": [
    "1. In the below elements which of them are values or an expression? \n",
    "eg:- values can be integer or string and expressions will be mathematical operators.\n",
    "    \n",
    "    \n",
    "Ans: \n",
    "    \n",
    "    *      - Expression\n",
    "'hello'    - Value\n",
    "-87.8      - Value\n",
    "-          - Expression\n",
    "/          - Expression\n",
    "+          - Expression\n",
    "6          - Value\n",
    "        "
   ]
  },
  {
   "cell_type": "raw",
   "id": "7d98f694",
   "metadata": {},
   "source": [
    "2.  What is the difference between string and variable?\n",
    "\n",
    "Ans. \n",
    "\n",
    "A string is a sequence of unicode characters enclosed in single or double quotes. It refers to an immutable datatype.\n",
    "\n",
    "A variable is a name for a location in computer memory. It can hold different datatypes viz. String, int, list etc.\n",
    "\n",
    "for example \n",
    "\"Nidhin\" is a string\n",
    "\n",
    "a= \"Nidhin\" ; In this expression, Nidhin is still a string but the variable a contains a string datatype. The held value in a variable can be altered using an assignment operator\n",
    "\n",
    "a=562.5 # this expression has now changed the value held by a from \"Nidhin\" a string datatype to 562.5 a float type.\n"
   ]
  },
  {
   "cell_type": "raw",
   "id": "bc53c6d7",
   "metadata": {},
   "source": [
    "3. Describe three different data types.\n",
    "\n",
    "Ans.\n",
    "\n",
    "String: A string is a sequence of unicode characters enclosed in single or double quotes. It refers to an immutable datatype.\n",
    "    \n",
    "int : An int, or integer, is a whole number, positive or negative having no decimal point and has length only limited by physical storage available.\n",
    "\n",
    "Boolean : Bool or boolean is assigned to a variable or an expression to indicate whether value is True or False \n"
   ]
  },
  {
   "cell_type": "raw",
   "id": "fb15a4e2",
   "metadata": {},
   "source": [
    "4. What is an expression made up of? What do all expressions do?\n",
    "\n",
    "Ans. Operators and values(operands) combine in different ways to form an expression. They produces/represents some other value."
   ]
  },
  {
   "cell_type": "raw",
   "id": "f0b5dce9",
   "metadata": {},
   "source": [
    "5. This assignment statements, like spam = 10. What is the difference between an expression and a statement?\n",
    "Ans. A statement executes something while an expression evaluates to a value.\n",
    "\n",
    "A statement is an instruction that the Python interpreter can execute. Evaluation of an expression always Produces or returns a result value. Execution of a statement may or may not produces or displays a result value."
   ]
  },
  {
   "cell_type": "raw",
   "id": "f0ff7f7a",
   "metadata": {},
   "source": [
    "6. After running the following code, what does the variable bacon contain?\n",
    "bacon = 22\n",
    "bacon + 1\n",
    "\n",
    "\n",
    "Ans. \n",
    "\n",
    "bacon still contains 22 as the value.\n",
    "\n",
    "if you want to change the value by incrementing, change code to bacon+=1"
   ]
  },
  {
   "cell_type": "raw",
   "id": "c8cec61e",
   "metadata": {},
   "source": [
    "#7. What should the values of the following two terms be?\n",
    "'spam' + 'spamspam'\n",
    "'spam' * 3\n",
    "\n",
    "Ans.\n",
    "\n",
    "'spam' + 'spamspam' gives : 'spamspamspam'\n",
    "\n",
    "'spam' * 3 gives  same 'spamspamspam'\n"
   ]
  },
  {
   "cell_type": "raw",
   "id": "4327887e",
   "metadata": {},
   "source": [
    "8. Why is eggs a valid variable name while 100 is invalid?\n",
    "\n",
    "Ans. \n",
    "A variable name must start with a letter or the underscore character. It cant be started with a number."
   ]
  },
  {
   "cell_type": "raw",
   "id": "f7fb854a",
   "metadata": {},
   "source": [
    "9. What three functions can be used to get the integer, floating-point number, or string version of a value?\n",
    "\n",
    "Ans. To get integer : int()\n",
    "\n",
    "To get float: float()\n",
    "\n",
    "To get string : str()\n",
    "\n",
    "\n"
   ]
  },
  {
   "cell_type": "raw",
   "id": "5df3ed82",
   "metadata": {},
   "source": [
    "10. Why does this expression cause an error? How can you fix it?\n",
    "'I have eaten ' + 99 + ' burritos.'\n",
    "Ans. Typecast 99 to a string\n",
    "\n",
    "'I have eaten ' + str(99) + ' burritos.'"
   ]
  }
 ],
 "metadata": {
  "kernelspec": {
   "display_name": "Python 3 (ipykernel)",
   "language": "python",
   "name": "python3"
  },
  "language_info": {
   "codemirror_mode": {
    "name": "ipython",
    "version": 3
   },
   "file_extension": ".py",
   "mimetype": "text/x-python",
   "name": "python",
   "nbconvert_exporter": "python",
   "pygments_lexer": "ipython3",
   "version": "3.9.7"
  }
 },
 "nbformat": 4,
 "nbformat_minor": 5
}
